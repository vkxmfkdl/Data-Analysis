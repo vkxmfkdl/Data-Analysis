{
 "cells": [
  {
   "cell_type": "code",
   "execution_count": 1,
   "metadata": {},
   "outputs": [],
   "source": [
    "from urllib.request import urlopen\n",
    "from bs4 import BeautifulSoup"
   ]
  },
  {
   "cell_type": "code",
   "execution_count": 6,
   "metadata": {},
   "outputs": [
    {
     "name": "stdout",
     "output_type": "stream",
     "text": [
      "1 https://debatingday.com/16036/%ec%9e%ac%ed%8c%90-%ec%a4%91%ea%b3%84%eb%a5%bc-%ed%86%b5%ed%95%9c-%ea%b3%b5%ea%b0%9c%ed%99%95%eb%8c%80-%ed%97%88%ec%9a%a9%eb%90%98%ec%96%b4%ec%95%bc-%ed%95%98%eb%8a%94%ea%b0%80/\n",
      "2 https://debatingday.com/15615/%eb%b6%80%ec%a0%95%ed%99%95%ed%95%9c-%ec%84%a0%ea%b1%b0%ec%97%ac%eb%a1%a0%ec%a1%b0%ec%82%ac-%eb%b0%98%eb%93%9c%ec%8b%9c-%ed%95%84%ec%9a%94%ed%95%9c%ea%b0%80/\n",
      "3 https://debatingday.com/15447/%eb%b0%95%ea%b7%bc%ed%98%9c-%eb%8c%80%ed%86%b5%eb%a0%b9-%ed%83%84%ed%95%b5-%ed%97%8c%eb%b2%95%ec%9e%ac%ed%8c%90%ec%86%8c-%ec%84%a0%ea%b3%a0%eb%ac%b8/\n",
      "4 https://debatingday.com/14789/%eb%8c%80%ed%86%b5%eb%a0%b9%ec%a4%91%ec%9e%84%ec%a0%9c%eb%8a%94-%ea%b0%9c%ed%97%8c%ec%9d%98-%ec%98%ac%eb%b0%94%eb%a5%b8-%eb%b0%a9%ed%96%a5%ec%9d%b8%ea%b0%80/\n",
      "5 https://debatingday.com/14320/%ec%9d%98%eb%ac%b4%ed%88%ac%ed%91%9c%ec%a0%9c%eb%8a%94-%ed%95%84%ec%9a%94%ed%95%9c-%ec%a0%95%ec%b1%85%ec%9d%b8%ea%b0%80/\n",
      "6 https://debatingday.com/11513/%ea%b5%ad%ed%9a%8c%ec%84%a0%ec%a7%84%ed%99%94%eb%b2%95%ec%9d%80-%ed%8f%90%ea%b8%b0%eb%90%98%ec%96%b4%ec%95%bc-%ed%95%98%eb%82%98/\n",
      "7 https://debatingday.com/10498/anonymous-is-it-a-necessary-group/\n",
      "8 https://debatingday.com/10468/should-wartime-operational-control-be-transferred-as-planned/\n",
      "9 https://debatingday.com/10134/%ec%96%b4%eb%82%98%eb%8b%88%eb%a8%b8%ec%8a%a4%eb%8a%94-%ed%95%84%ec%9a%94%ed%95%9c-%ec%a7%91%eb%8b%a8%ec%9d%b8%ea%b0%80/\n",
      "10 https://debatingday.com/9096/%ec%82%ac%eb%93%9cthhad%ec%9d%98-%ed%95%9c%eb%b0%98%eb%8f%84-%eb%b0%b0%ec%b9%98%eb%8a%94-%ec%9d%b4%eb%a3%a8%ec%96%b4%ec%a0%b8%ec%95%bc-%ed%95%98%eb%82%98/\n",
      "11 https://debatingday.com/8184/%eb%82%a8%eb%b6%81%ed%86%b5%ec%9d%bc-%ec%9a%b0%eb%a6%ac%ec%97%90%ea%b2%8c-%ed%95%84%ec%88%98%ec%a0%81%ec%9d%b8-%eb%ac%b8%ec%a0%9c%ec%9d%b8%ea%b0%80/\n",
      "12 https://debatingday.com/7975/%ea%b9%80%ec%98%81%eb%9e%80%eb%b2%95-%ec%9b%90%ec%95%88%eb%8c%80%eb%a1%9c-%ec%b2%98%eb%a6%ac%eb%90%98%ec%96%b4%ec%95%bc-%ed%95%98%eb%82%98/\n"
     ]
    }
   ],
   "source": [
    "\n",
    "cnt=0\n",
    "for i in range(1,3):\n",
    "    if i==1:\n",
    "        url = \"https://debatingday.com/category/opendiscussion/politics/\"\n",
    "    else :\n",
    "        url = \"https://debatingday.com/category/opendiscussion/politics/page/\"+i+\"/\" \n",
    "    html = urlopen(url)\n",
    "    source = html.read() # 바이트코드 type으로 소스를 읽는다.\n",
    "    html.close() # urlopen을 진행한 후에는 close를 한다.\n",
    "\n",
    "    soup = BeautifulSoup(source, \"html5lib\") # 파싱할 문서를 BeautifulSoup 클래스의 생성자에 넘겨주어 문서 개체를 생성, 관습적으로 soup 이라 부름\n",
    "    links = soup.find_all(class_=\"blog-one-item\")\n",
    "    for link in links:\n",
    "        cnt+=1\n",
    "        link_url = link.a.get('href')\n",
    "        print(cnt,link_url)\n",
    "    "
   ]
  }
 ],
 "metadata": {
  "kernelspec": {
   "display_name": "Python 3",
   "language": "python",
   "name": "python3"
  },
  "language_info": {
   "codemirror_mode": {
    "name": "ipython",
    "version": 3
   },
   "file_extension": ".py",
   "mimetype": "text/x-python",
   "name": "python",
   "nbconvert_exporter": "python",
   "pygments_lexer": "ipython3",
   "version": "3.7.0"
  }
 },
 "nbformat": 4,
 "nbformat_minor": 2
}
